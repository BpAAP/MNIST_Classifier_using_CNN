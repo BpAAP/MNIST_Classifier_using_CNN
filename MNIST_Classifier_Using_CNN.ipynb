{
  "nbformat": 4,
  "nbformat_minor": 0,
  "metadata": {
    "colab": {
      "name": "MNIST Classifier Using CNN.ipynb",
      "provenance": [],
      "collapsed_sections": []
    },
    "kernelspec": {
      "name": "python3",
      "display_name": "Python 3"
    },
    "accelerator": "GPU"
  },
  "cells": [
    {
      "cell_type": "markdown",
      "metadata": {
        "id": "qGfXRKqYR5py",
        "colab_type": "text"
      },
      "source": [
        "## Plan:\n",
        "Use the built in dataset from keras/TF, use some convolutional layers followed by a dense layer with 10 nodes to produce 'one-hot' style labels for MNIST data."
      ]
    },
    {
      "cell_type": "code",
      "metadata": {
        "id": "QkaYcoLhVeTx",
        "colab_type": "code",
        "colab": {}
      },
      "source": [
        "import tensorflow.keras"
      ],
      "execution_count": null,
      "outputs": []
    },
    {
      "cell_type": "markdown",
      "metadata": {
        "id": "zKdVsX7QSVHK",
        "colab_type": "text"
      },
      "source": [
        "### Import and preprocess data\n",
        "\n",
        "` mnist.load_data()` returns tuple ` (x_train,y_train),(x_test,y_test)`\n",
        "* `x_train` is an numpy array containing 60000 28x28 images\n",
        "* `y_train` is an numpy array containing 60000 lables ranging from '0,1,2, ... 9'\n",
        "* `x_test` is a numpy array containing 10000 28x28 images\n",
        "* `y_test` is an numpy array containing 10000 lables ranging from '0,1,2, ... 9'.\n",
        "\n",
        "\n",
        "I will import the ys as `..._digits` to make it obvious that they are not one-hot vectors.\n",
        "\n"
      ]
    },
    {
      "cell_type": "code",
      "metadata": {
        "id": "BasF4YkuRHQg",
        "colab_type": "code",
        "colab": {}
      },
      "source": [
        "(x_train,y_train_digits),(x_test,y_test_digits) = tensorflow.keras.datasets.mnist.load_data()"
      ],
      "execution_count": null,
      "outputs": []
    },
    {
      "cell_type": "markdown",
      "metadata": {
        "id": "MpgUm53fUdtN",
        "colab_type": "text"
      },
      "source": [
        "Now to turn the lables into one-hot vectors, keras has a built in function `utils.to_categorical()`. This is pretty much instant for this data so there is no point trying to code something better."
      ]
    },
    {
      "cell_type": "code",
      "metadata": {
        "id": "0Ej8_OpqSpbe",
        "colab_type": "code",
        "colab": {}
      },
      "source": [
        "y_train = tensorflow.keras.utils.to_categorical(y_train_digits)\n",
        "y_test = tensorflow.keras.utils.to_categorical(y_test_digits)"
      ],
      "execution_count": null,
      "outputs": []
    },
    {
      "cell_type": "markdown",
      "metadata": {
        "id": "7i6bKkLfdQJa",
        "colab_type": "text"
      },
      "source": [
        "Also we need the images to be rescaled to be between 0 and 1 instead of their current 0 to 255 range."
      ]
    },
    {
      "cell_type": "code",
      "metadata": {
        "id": "xMh-7rbmdZKr",
        "colab_type": "code",
        "colab": {}
      },
      "source": [
        "x_train = x_train/x_train.max()\n",
        "x_test = x_test/x_test.max()"
      ],
      "execution_count": null,
      "outputs": []
    },
    {
      "cell_type": "markdown",
      "metadata": {
        "id": "QXK2fjKyczPE",
        "colab_type": "text"
      },
      "source": [
        "### Inspect the data"
      ]
    },
    {
      "cell_type": "code",
      "metadata": {
        "id": "HDciZqOZc1J_",
        "colab_type": "code",
        "colab": {
          "base_uri": "https://localhost:8080/",
          "height": 282
        },
        "outputId": "3b3a3cae-0d14-4ce5-d9f5-c57011c77714"
      },
      "source": [
        "import matplotlib.pyplot as plt\n",
        "plt.imshow(x_test[12])"
      ],
      "execution_count": null,
      "outputs": [
        {
          "output_type": "execute_result",
          "data": {
            "text/plain": [
              "<matplotlib.image.AxesImage at 0x7fe826053780>"
            ]
          },
          "metadata": {
            "tags": []
          },
          "execution_count": 5
        },
        {
          "output_type": "display_data",
          "data": {
            "image/png": "[encoded data removed]",
            "text/plain": [
              "<Figure size 432x288 with 1 Axes>"
            ]
          },
          "metadata": {
            "tags": [],
            "needs_background": "light"
          }
        }
      ]
    },
    {
      "cell_type": "markdown",
      "metadata": {
        "id": "sMfG33WaWZbQ",
        "colab_type": "text"
      },
      "source": [
        "### Defining the network\n",
        "\n",
        "The dataset forces an output of 1 by 10 to be comperable with the lables.\n",
        "So as before:\n",
        "\n",
        "1.   Input layer takes 28 by 28 image\n",
        "2.   The convolutional layer wants its input in a slighly different format, so the reshape layer does this conversion.\n",
        "3.   1st convolutional layer runs 8 5x5 kernel result of previous layer with the chosen activation.\n",
        "4.   A max pooling layer.\n",
        "5.   2nd convolutional layer runs 6 3x3 kernel result of previous layer with the chosen activation.\n",
        "6.   A max pooling layer.\n",
        "5.   Flatten layer is required to flatten all the outputs of the previous layer, so that the dense layer will produce a one dimensional vector.\n",
        "6.   An intermediate dense layer.\n",
        "7.   Dense layer with 10 nodes interprets previous layer into a 10x1 vector for comparison with lables.\n"
      ]
    },
    {
      "cell_type": "markdown",
      "metadata": {
        "id": "SZh2rlBYdzEq",
        "colab_type": "text"
      },
      "source": [
        "`sigmoid()` was chosen as it's basic and works well enough."
      ]
    },
    {
      "cell_type": "code",
      "metadata": {
        "id": "sEM--Cg1VhUc",
        "colab_type": "code",
        "colab": {}
      },
      "source": [
        "from tensorflow.keras.layers import Input, Conv2D, Dense, Reshape, Flatten, MaxPooling2D\n",
        "chosen_activation = tensorflow.keras.activations.sigmoid"
      ],
      "execution_count": null,
      "outputs": []
    },
    {
      "cell_type": "code",
      "metadata": {
        "id": "khZPKgFGuyce",
        "colab_type": "code",
        "colab": {}
      },
      "source": [
        "model=tensorflow.keras.Sequential()\n",
        "model.add(Input(shape=(28,28)))\n",
        "model.add(Reshape((28,28,1)))\n",
        "model.add(Conv2D(8,5,activation = chosen_activation))\n",
        "model.add(MaxPooling2D())\n",
        "model.add(Conv2D(6,3,activation = chosen_activation))\n",
        "model.add(MaxPooling2D())\n",
        "model.add(Flatten())\n",
        "model.add(Dense(24,activation='relu'))\n",
        "model.add(Dense(10,activation='softmax'))"
      ],
      "execution_count": null,
      "outputs": []
    },
    {
      "cell_type": "markdown",
      "metadata": {
        "id": "s8JxnrFeaPGs",
        "colab_type": "text"
      },
      "source": [
        "The model summary looks like this:"
      ]
    },
    {
      "cell_type": "code",
      "metadata": {
        "id": "rvYeHu3GZZZ9",
        "colab_type": "code",
        "colab": {
          "base_uri": "https://localhost:8080/",
          "height": 420
        },
        "outputId": "c3fdb536-aca9-455d-9209-a8d63030f826"
      },
      "source": [
        "model.summary()"
      ],
      "execution_count": null,
      "outputs": [
        {
          "output_type": "stream",
          "text": [
            "Model: \"sequential_1\"\n",
            "_________________________________________________________________\n",
            "Layer (type)                 Output Shape              Param #   \n",
            "=================================================================\n",
            "reshape_1 (Reshape)          (None, 28, 28, 1)         0         \n",
            "_________________________________________________________________\n",
            "conv2d_2 (Conv2D)            (None, 24, 24, 8)         208       \n",
            "_________________________________________________________________\n",
            "max_pooling2d_2 (MaxPooling2 (None, 12, 12, 8)         0         \n",
            "_________________________________________________________________\n",
            "conv2d_3 (Conv2D)            (None, 10, 10, 6)         438       \n",
            "_________________________________________________________________\n",
            "max_pooling2d_3 (MaxPooling2 (None, 5, 5, 6)           0         \n",
            "_________________________________________________________________\n",
            "flatten_1 (Flatten)          (None, 150)               0         \n",
            "_________________________________________________________________\n",
            "dense_2 (Dense)              (None, 24)                3624      \n",
            "_________________________________________________________________\n",
            "dense_3 (Dense)              (None, 10)                250       \n",
            "=================================================================\n",
            "Total params: 4,520\n",
            "Trainable params: 4,520\n",
            "Non-trainable params: 0\n",
            "_________________________________________________________________\n"
          ],
          "name": "stdout"
        }
      ]
    },
    {
      "cell_type": "markdown",
      "metadata": {
        "id": "ieW71t3aaaSh",
        "colab_type": "text"
      },
      "source": [
        "There is also a handy plot:"
      ]
    },
    {
      "cell_type": "code",
      "metadata": {
        "id": "pL6RlQLVacYF",
        "colab_type": "code",
        "colab": {
          "base_uri": "https://localhost:8080/",
          "height": 976
        },
        "outputId": "aa442bc6-07b3-4b32-c377-e92cccde18d1"
      },
      "source": [
        "tensorflow.keras.utils.plot_model(model,show_shapes='true')"
      ],
      "execution_count": null,
      "outputs": [
        {
          "output_type": "execute_result",
          "data": {
            "image/png": "[encoded data removed]",
            "text/plain": [
              "<IPython.core.display.Image object>"
            ]
          },
          "metadata": {
            "tags": []
          },
          "execution_count": 29
        }
      ]
    },
    {
      "cell_type": "markdown",
      "metadata": {
        "id": "kgWDVQ7XcHkg",
        "colab_type": "text"
      },
      "source": [
        "### Now for the training\n",
        "\n",
        "For loss I chose `MeanSquaredError()` as its simple and should do fine when comparing two vectors.\n",
        "\n",
        "For the optimizer I'm using `RMSprop()`. It seems to work well."
      ]
    },
    {
      "cell_type": "code",
      "metadata": {
        "id": "LwIKc_ZHcLvc",
        "colab_type": "code",
        "colab": {}
      },
      "source": [
        "chosen_loss = tensorflow.keras.losses.MeanSquaredError()\n",
        "chosen_optimizer = tensorflow.keras.optimizers.RMSprop()\n",
        "model.compile(\n",
        "    loss=chosen_loss,\n",
        "    optimizer=chosen_optimizer,\n",
        "    metrics=[\"accuracy\"],\n",
        ")"
      ],
      "execution_count": null,
      "outputs": []
    },
    {
      "cell_type": "markdown",
      "metadata": {
        "id": "HcJ6tCCzmhwR",
        "colab_type": "text"
      },
      "source": [
        "Be sure to use GPU acceleration for training if available. Each step will only take about 9s in a Collab GPU accelerated instance."
      ]
    },
    {
      "cell_type": "code",
      "metadata": {
        "id": "uktjILe2eIti",
        "colab_type": "code",
        "colab": {
          "base_uri": "https://localhost:8080/",
          "height": 857
        },
        "outputId": "36e6296b-cdc5-4765-fe22-02e6c6c803d7"
      },
      "source": [
        "history = model.fit(x_train,y_train,epochs=25,validation_data=(x_test,y_test))"
      ],
      "execution_count": null,
      "outputs": [
        {
          "output_type": "stream",
          "text": [
            "Epoch 1/25\n",
            "1875/1875 [==============================] - 21s 11ms/step - loss: 0.0435 - accuracy: 0.6693 - val_loss: 0.0138 - val_accuracy: 0.9149\n",
            "Epoch 2/25\n",
            "1875/1875 [==============================] - 22s 12ms/step - loss: 0.0107 - accuracy: 0.9326 - val_loss: 0.0075 - val_accuracy: 0.9549\n",
            "Epoch 3/25\n",
            "1875/1875 [==============================] - 22s 12ms/step - loss: 0.0070 - accuracy: 0.9557 - val_loss: 0.0061 - val_accuracy: 0.9596\n",
            "Epoch 4/25\n",
            "1875/1875 [==============================] - 22s 12ms/step - loss: 0.0056 - accuracy: 0.9639 - val_loss: 0.0048 - val_accuracy: 0.9695\n",
            "Epoch 5/25\n",
            "1875/1875 [==============================] - 22s 11ms/step - loss: 0.0049 - accuracy: 0.9685 - val_loss: 0.0044 - val_accuracy: 0.9714\n",
            "Epoch 6/25\n",
            "1875/1875 [==============================] - 22s 12ms/step - loss: 0.0044 - accuracy: 0.9715 - val_loss: 0.0040 - val_accuracy: 0.9734\n",
            "Epoch 7/25\n",
            "1875/1875 [==============================] - 23s 12ms/step - loss: 0.0041 - accuracy: 0.9743 - val_loss: 0.0034 - val_accuracy: 0.9784\n",
            "Epoch 8/25\n",
            "1875/1875 [==============================] - 24s 13ms/step - loss: 0.0037 - accuracy: 0.9765 - val_loss: 0.0032 - val_accuracy: 0.9788\n",
            "Epoch 9/25\n",
            "1875/1875 [==============================] - 23s 12ms/step - loss: 0.0035 - accuracy: 0.9778 - val_loss: 0.0036 - val_accuracy: 0.9743\n",
            "Epoch 10/25\n",
            "1875/1875 [==============================] - 23s 12ms/step - loss: 0.0033 - accuracy: 0.9786 - val_loss: 0.0031 - val_accuracy: 0.9791\n",
            "Epoch 11/25\n",
            "1875/1875 [==============================] - 22s 12ms/step - loss: 0.0032 - accuracy: 0.9794 - val_loss: 0.0033 - val_accuracy: 0.9782\n",
            "Epoch 12/25\n",
            "1875/1875 [==============================] - 22s 12ms/step - loss: 0.0030 - accuracy: 0.9805 - val_loss: 0.0030 - val_accuracy: 0.9803\n",
            "Epoch 13/25\n",
            "1875/1875 [==============================] - 23s 12ms/step - loss: 0.0029 - accuracy: 0.9815 - val_loss: 0.0029 - val_accuracy: 0.9806\n",
            "Epoch 14/25\n",
            "1875/1875 [==============================] - 22s 12ms/step - loss: 0.0028 - accuracy: 0.9822 - val_loss: 0.0026 - val_accuracy: 0.9841\n",
            "Epoch 15/25\n",
            "1875/1875 [==============================] - 22s 12ms/step - loss: 0.0027 - accuracy: 0.9827 - val_loss: 0.0030 - val_accuracy: 0.9790\n",
            "Epoch 16/25\n",
            "1875/1875 [==============================] - 22s 12ms/step - loss: 0.0026 - accuracy: 0.9834 - val_loss: 0.0028 - val_accuracy: 0.9816\n",
            "Epoch 17/25\n",
            "1875/1875 [==============================] - 23s 12ms/step - loss: 0.0025 - accuracy: 0.9839 - val_loss: 0.0025 - val_accuracy: 0.9838\n",
            "Epoch 18/25\n",
            "1875/1875 [==============================] - 23s 12ms/step - loss: 0.0025 - accuracy: 0.9841 - val_loss: 0.0029 - val_accuracy: 0.9813\n",
            "Epoch 19/25\n",
            "1875/1875 [==============================] - 22s 12ms/step - loss: 0.0024 - accuracy: 0.9845 - val_loss: 0.0027 - val_accuracy: 0.9820\n",
            "Epoch 20/25\n",
            "1875/1875 [==============================] - 22s 12ms/step - loss: 0.0024 - accuracy: 0.9851 - val_loss: 0.0024 - val_accuracy: 0.9837\n",
            "Epoch 21/25\n",
            "1875/1875 [==============================] - 22s 12ms/step - loss: 0.0023 - accuracy: 0.9857 - val_loss: 0.0033 - val_accuracy: 0.9782\n",
            "Epoch 22/25\n",
            "1875/1875 [==============================] - 22s 12ms/step - loss: 0.0023 - accuracy: 0.9859 - val_loss: 0.0024 - val_accuracy: 0.9846\n",
            "Epoch 23/25\n",
            "1875/1875 [==============================] - 22s 12ms/step - loss: 0.0022 - accuracy: 0.9859 - val_loss: 0.0024 - val_accuracy: 0.9850\n",
            "Epoch 24/25\n",
            "1875/1875 [==============================] - 23s 12ms/step - loss: 0.0022 - accuracy: 0.9861 - val_loss: 0.0025 - val_accuracy: 0.9838\n",
            "Epoch 25/25\n",
            "1875/1875 [==============================] - 22s 12ms/step - loss: 0.0021 - accuracy: 0.9867 - val_loss: 0.0026 - val_accuracy: 0.9834\n"
          ],
          "name": "stdout"
        }
      ]
    },
    {
      "cell_type": "markdown",
      "metadata": {
        "id": "o7TW1thKnSPY",
        "colab_type": "text"
      },
      "source": [
        "### Evaluating the network\n",
        "Let's see a timeline of the accuracy."
      ]
    },
    {
      "cell_type": "code",
      "metadata": {
        "id": "0vNhFlPUnV5-",
        "colab_type": "code",
        "colab": {}
      },
      "source": [
        "validation_accuracy = history.history['val_accuracy']\n",
        "accuracy = history.history['accuracy']"
      ],
      "execution_count": null,
      "outputs": []
    },
    {
      "cell_type": "code",
      "metadata": {
        "id": "hc0Q-ux5oLva",
        "colab_type": "code",
        "colab": {
          "base_uri": "https://localhost:8080/",
          "height": 282
        },
        "outputId": "d8546710-07d1-4ade-e2c2-373b33ebdfd1"
      },
      "source": [
        "plt.plot(validation_accuracy)"
      ],
      "execution_count": null,
      "outputs": [
        {
          "output_type": "execute_result",
          "data": {
            "text/plain": [
              "[<matplotlib.lines.Line2D at 0x7fe818963588>]"
            ]
          },
          "metadata": {
            "tags": []
          },
          "execution_count": 33
        },
        {
          "output_type": "display_data",
          "data": {
            "image/png": "[encoded data removed]",
            "text/plain": [
              "<Figure size 432x288 with 1 Axes>"
            ]
          },
          "metadata": {
            "tags": [],
            "needs_background": "light"
          }
        }
      ]
    },
    {
      "cell_type": "code",
      "metadata": {
        "id": "MbPyYYonoZxc",
        "colab_type": "code",
        "colab": {
          "base_uri": "https://localhost:8080/",
          "height": 285
        },
        "outputId": "69bfd3eb-5960-4a86-88f0-b242fc2f450d"
      },
      "source": [
        "plt.plot(accuracy)"
      ],
      "execution_count": null,
      "outputs": [
        {
          "output_type": "execute_result",
          "data": {
            "text/plain": [
              "[<matplotlib.lines.Line2D at 0x7fe8180edba8>]"
            ]
          },
          "metadata": {
            "tags": []
          },
          "execution_count": 34
        },
        {
          "output_type": "display_data",
          "data": {
            "image/png": "[encoded data removed]",
            "text/plain": [
              "<Figure size 432x288 with 1 Axes>"
            ]
          },
          "metadata": {
            "tags": [],
            "needs_background": "light"
          }
        }
      ]
    },
    {
      "cell_type": "markdown",
      "metadata": {
        "id": "6rdekBUIoexb",
        "colab_type": "text"
      },
      "source": [
        "Let's see how well it works"
      ]
    },
    {
      "cell_type": "code",
      "metadata": {
        "id": "9ujl_egulyEU",
        "colab_type": "code",
        "colab": {}
      },
      "source": [
        "import numpy as np\n",
        "prediction = model.predict(x_test)"
      ],
      "execution_count": null,
      "outputs": []
    },
    {
      "cell_type": "code",
      "metadata": {
        "id": "uKCtmaPKlWwc",
        "colab_type": "code",
        "colab": {
          "base_uri": "https://localhost:8080/",
          "height": 315
        },
        "outputId": "b9b0908b-835b-4980-f566-3362b68e1c9a"
      },
      "source": [
        "i = np.random.randint(0,prediction.shape[0])\n",
        "print('Image number ' + str(i) + ' looks like this!')\n",
        "plt.imshow(x_test[i])\n",
        "print('The network thinks this is a: ' + str(np.argmax(prediction[i])))\n",
        "print('In reality this is (also) a: ' + str(np.argmax(y_test[i])))"
      ],
      "execution_count": null,
      "outputs": [
        {
          "output_type": "stream",
          "text": [
            "Image number 9272 looks like this!\n",
            "The network thinks this is a: 9\n",
            "In reality this is (also) a: 9\n"
          ],
          "name": "stdout"
        },
        {
          "output_type": "display_data",
          "data": {
            "image/png": "[encoded data removed]",
            "text/plain": [
              "<Figure size 432x288 with 1 Axes>"
            ]
          },
          "metadata": {
            "tags": [],
            "needs_background": "light"
          }
        }
      ]
    },
    {
      "cell_type": "markdown",
      "metadata": {
        "id": "CZEDFVp6pooM",
        "colab_type": "text"
      },
      "source": [
        "Let's check the overall accuracy:"
      ]
    },
    {
      "cell_type": "code",
      "metadata": {
        "id": "opR0VJTlpniF",
        "colab_type": "code",
        "colab": {
          "base_uri": "https://localhost:8080/",
          "height": 67
        },
        "outputId": "5b677c68-5481-4690-f07f-c34f391790c1"
      },
      "source": [
        "result = model.evaluate(x_test,y_test)\n",
        "print('Overall the loss is: ' + str(result[0]) + '. This is a bit meaningless.')\n",
        "print('The more meaningful accuracy is: '+ str(result[1]*100) + '%')"
      ],
      "execution_count": null,
      "outputs": [
        {
          "output_type": "stream",
          "text": [
            "313/313 [==============================] - 2s 5ms/step - loss: 0.0026 - accuracy: 0.9834\n",
            "Overall the loss is: 0.0025522869545966387. This is a bit meaningless.\n",
            "The more meaningful accuracy is: 98.33999872207642%\n"
          ],
          "name": "stdout"
        }
      ]
    },
    {
      "cell_type": "markdown",
      "metadata": {
        "id": "jpcrgpzktTKC",
        "colab_type": "text"
      },
      "source": [
        "## Implementing an app for demonstration\n",
        "\n",
        "Now save the model and make a javascript app to demonstrate how it works.\n",
        "Check the github where this notebook as well as the code for the javascript app can be found.\n",
        "\n",
        "1. `model.save()` saves the model in the python keras format.\n",
        "2. `!pip install tensorflowjs` installs the packages necessary for converting to the proper format.\n",
        "3. `!tensorflowjs_converter --input_format keras model.h5 js_model` runs the bash command to carry out the conversion"
      ]
    },
    {
      "cell_type": "code",
      "metadata": {
        "id": "jjkiUo9nzxl5",
        "colab_type": "code",
        "colab": {}
      },
      "source": [
        "model.save('model.h5')"
      ],
      "execution_count": null,
      "outputs": []
    },
    {
      "cell_type": "code",
      "metadata": {
        "id": "zOZCRa-g2oAn",
        "colab_type": "code",
        "colab": {}
      },
      "source": [
        "!pip install tensorflowjs"
      ],
      "execution_count": null,
      "outputs": []
    },
    {
      "cell_type": "code",
      "metadata": {
        "id": "ddcthceW0Gv4",
        "colab_type": "code",
        "colab": {}
      },
      "source": [
        "!tensorflowjs_converter --input_format keras model.h5 js_model"
      ],
      "execution_count": null,
      "outputs": []
    },
    {
      "cell_type": "markdown",
      "metadata": {
        "id": "x65kaaDJ3xqe",
        "colab_type": "text"
      },
      "source": [
        "The next section zips and downloads the converted model folder, you may not want to do this, set `download_model=True` and run the cell if you do want to do this."
      ]
    },
    {
      "cell_type": "code",
      "metadata": {
        "id": "xgsQIfl63s1x",
        "colab_type": "code",
        "colab": {
          "base_uri": "https://localhost:8080/",
          "height": 67
        },
        "outputId": "3d9fb62f-a413-4688-eaa5-d4b097d1d75b"
      },
      "source": [
        "download_model = False\n",
        "if download_model:\n",
        "  !zip -r js_model.zip js_model\n",
        "  from google.colab import files\n",
        "  files.download(\"js_model.zip\")\n"
      ],
      "execution_count": null,
      "outputs": [
        {
          "output_type": "stream",
          "text": [
            "updating: js_model/ (stored 0%)\n",
            "updating: js_model/model.json (deflated 78%)\n",
            "updating: js_model/group1-shard1of1.bin (deflated 7%)\n"
          ],
          "name": "stdout"
        },
        {
          "output_type": "display_data",
          "data": {
            "application/javascript": [
              "\n",
              "    async function download(id, filename, size) {\n",
              "      if (!google.colab.kernel.accessAllowed) {\n",
              "        return;\n",
              "      }\n",
              "      const div = document.createElement('div');\n",
              "      const label = document.createElement('label');\n",
              "      label.textContent = `Downloading \"${filename}\": `;\n",
              "      div.appendChild(label);\n",
              "      const progress = document.createElement('progress');\n",
              "      progress.max = size;\n",
              "      div.appendChild(progress);\n",
              "      document.body.appendChild(div);\n",
              "\n",
              "      const buffers = [];\n",
              "      let downloaded = 0;\n",
              "\n",
              "      const channel = await google.colab.kernel.comms.open(id);\n",
              "      // Send a message to notify the kernel that we're ready.\n",
              "      channel.send({})\n",
              "\n",
              "      for await (const message of channel.messages) {\n",
              "        // Send a message to notify the kernel that we're ready.\n",
              "        channel.send({})\n",
              "        if (message.buffers) {\n",
              "          for (const buffer of message.buffers) {\n",
              "            buffers.push(buffer);\n",
              "            downloaded += buffer.byteLength;\n",
              "            progress.value = downloaded;\n",
              "          }\n",
              "        }\n",
              "      }\n",
              "      const blob = new Blob(buffers, {type: 'application/binary'});\n",
              "      const a = document.createElement('a');\n",
              "      a.href = window.URL.createObjectURL(blob);\n",
              "      a.download = filename;\n",
              "      div.appendChild(a);\n",
              "      a.click();\n",
              "      div.remove();\n",
              "    }\n",
              "  "
            ],
            "text/plain": [
              "<IPython.core.display.Javascript object>"
            ]
          },
          "metadata": {
            "tags": []
          }
        },
        {
          "output_type": "display_data",
          "data": {
            "application/javascript": [
              "download(\"download_6e3157ef-bd5f-40c5-a897-aeb3f894d962\", \"js_model.zip\", 18250)"
            ],
            "text/plain": [
              "<IPython.core.display.Javascript object>"
            ]
          },
          "metadata": {
            "tags": []
          }
        }
      ]
    }
  ]
}